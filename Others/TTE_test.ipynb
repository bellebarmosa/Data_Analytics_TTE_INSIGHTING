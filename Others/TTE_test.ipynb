{
 "cells": [
  {
   "cell_type": "markdown",
   "metadata": {},
   "source": [
    "## **1. Setup**\n",
    "\n",
    "Install Necessary Libraries: You'll need libraries such as pandas for data manipulation, lifelines for survival analysis, and numpy for numerical operations."
   ]
  },
  {
   "cell_type": "code",
   "execution_count": 1,
   "metadata": {},
   "outputs": [],
   "source": [
    "import pandas as pd\n",
    "import numpy as np\n",
    "from lifelines import KaplanMeierFitter, CoxPHFitter"
   ]
  },
  {
   "cell_type": "markdown",
   "metadata": {},
   "source": [
    "## **2. Data Preparation**\n"
   ]
  },
  {
   "cell_type": "markdown",
   "metadata": {},
   "source": [
    "Load Data: Import your observational dataset into a pandas DataFrame."
   ]
  },
  {
   "cell_type": "code",
   "execution_count": 2,
   "metadata": {},
   "outputs": [],
   "source": [
    "data = pd.read_csv('../Data/data_censored.csv')\n"
   ]
  },
  {
   "cell_type": "markdown",
   "metadata": {},
   "source": [
    "Define Variables: Specify treatment, outcome, and covariates based on your study design.\n"
   ]
  },
  {
   "cell_type": "code",
   "execution_count": 3,
   "metadata": {},
   "outputs": [],
   "source": [
    "treatment = 'treatment_column'\n",
    "outcome = 'outcome_column'\n",
    "covariates = ['covariate1', 'covariate2', 'covariate3']\n"
   ]
  },
  {
   "cell_type": "markdown",
   "metadata": {},
   "source": [
    "## **3. Handling Censoring via Inverse Probability of Censoring Weights (IPCW)**\n"
   ]
  },
  {
   "cell_type": "markdown",
   "metadata": {},
   "source": [
    "Fit a Censoring Model: Use a logistic regression model to estimate the probability of censoring."
   ]
  },
  {
   "cell_type": "code",
   "execution_count": 6,
   "metadata": {},
   "outputs": [],
   "source": [
    "from sklearn.linear_model import LogisticRegression\n",
    "\n",
    "# Define actual covariates based on available columns\n",
    "covariates = [\"x1\", \"x2\", \"x3\", \"x4\", \"age\", \"age_s\"]\n",
    "\n",
    "# Ensure we only use covariates that exist in the dataset\n",
    "existing_covariates = [col for col in covariates if col in data.columns]\n",
    "\n",
    "if not existing_covariates:\n",
    "    raise ValueError(\"None of the specified covariates exist in the dataset. Check column names.\")\n",
    "\n",
    "# Fit logistic regression for censoring probability\n",
    "censoring_model = LogisticRegression()\n",
    "censoring_model.fit(data[existing_covariates], data[\"censored\"])  # \"censored\" is the target\n",
    "\n",
    "# Compute inverse probability of censoring weights (IPCW)\n",
    "data[\"censoring_prob\"] = censoring_model.predict_proba(data[existing_covariates])[:, 1]\n",
    "data[\"ipcw\"] = 1 / data[\"censoring_prob\"]\n"
   ]
  },
  {
   "cell_type": "markdown",
   "metadata": {},
   "source": [
    "## **Step 4: Estimating Treatment Effects with IPCW**\n",
    "\n"
   ]
  },
  {
   "cell_type": "markdown",
   "metadata": {},
   "source": [
    "In R, glm() was likely used for regression. In Python, we use statsmodels for weighted regression."
   ]
  },
  {
   "cell_type": "code",
   "execution_count": 8,
   "metadata": {},
   "outputs": [
    {
     "name": "stdout",
     "output_type": "stream",
     "text": [
      "                            WLS Regression Results                            \n",
      "==============================================================================\n",
      "Dep. Variable:                outcome   R-squared:                       0.010\n",
      "Model:                            WLS   Adj. R-squared:                  0.009\n",
      "Method:                 Least Squares   F-statistic:                     7.467\n",
      "Date:                Sun, 09 Mar 2025   Prob (F-statistic):            0.00644\n",
      "Time:                        22:01:16   Log-Likelihood:                 22.264\n",
      "No. Observations:                 725   AIC:                            -40.53\n",
      "Df Residuals:                     723   BIC:                            -31.36\n",
      "Df Model:                           1                                         \n",
      "Covariance Type:            nonrobust                                         \n",
      "==============================================================================\n",
      "                 coef    std err          t      P>|t|      [0.025      0.975]\n",
      "------------------------------------------------------------------------------\n",
      "const          0.0361      0.007      5.125      0.000       0.022       0.050\n",
      "treatment     -0.0338      0.012     -2.733      0.006      -0.058      -0.010\n",
      "==============================================================================\n",
      "Omnibus:                     1356.881   Durbin-Watson:                   1.664\n",
      "Prob(Omnibus):                  0.000   Jarque-Bera (JB):          1106652.603\n",
      "Skew:                          12.996   Prob(JB):                         0.00\n",
      "Kurtosis:                     192.627   Cond. No.                         2.41\n",
      "==============================================================================\n",
      "\n",
      "Notes:\n",
      "[1] Standard Errors assume that the covariance matrix of the errors is correctly specified.\n"
     ]
    }
   ],
   "source": [
    "import statsmodels.api as sm\n",
    "\n",
    "# Fit a weighted regression model for outcome prediction\n",
    "X = data[[\"treatment\"]]  # Only treatment variable\n",
    "X = sm.add_constant(X)  # Add intercept\n",
    "y = data[\"outcome\"]\n",
    "\n",
    "# Apply inverse probability of censoring weights (IPCW)\n",
    "weighted_model = sm.WLS(y, X, weights=data[\"ipcw\"]).fit()\n",
    "\n",
    "# Print results\n",
    "print(weighted_model.summary())\n"
   ]
  }
 ],
 "metadata": {
  "kernelspec": {
   "display_name": "Python 3",
   "language": "python",
   "name": "python3"
  },
  "language_info": {
   "codemirror_mode": {
    "name": "ipython",
    "version": 3
   },
   "file_extension": ".py",
   "mimetype": "text/x-python",
   "name": "python",
   "nbconvert_exporter": "python",
   "pygments_lexer": "ipython3",
   "version": "3.13.2"
  }
 },
 "nbformat": 4,
 "nbformat_minor": 2
}
